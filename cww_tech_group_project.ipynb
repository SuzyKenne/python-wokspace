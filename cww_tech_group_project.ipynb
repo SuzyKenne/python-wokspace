{
 "cells": [
  {
   "cell_type": "code",
   "execution_count": 2,
   "metadata": {},
   "outputs": [
    {
     "name": "stdout",
     "output_type": "stream",
     "text": [
      "(1, 2, 3, 4, 5, 6, 7, 8, 9, 10)\n",
      "does tuple tpl contain number 3? True\n"
     ]
    }
   ],
   "source": [
    "#tuple\n",
    "tpl=(1,2,3,4,5,6,7,8,9,10)\n",
    "print(tpl)\n",
    "print(\"does tuple tpl contain number 3?\", 3 in tpl)\n"
   ]
  },
  {
   "cell_type": "code",
   "execution_count": 8,
   "metadata": {},
   "outputs": [
    {
     "name": "stdout",
     "output_type": "stream",
     "text": [
      "{'name': 'KENNE SUZY', 'age': 19, 'country': 'cameroon'}\n",
      "19\n",
      "{'name': 'KENNE SUZY', 'age': 19, 'country': 'canada'}\n",
      "{'name': 'KENNE SUZY', 'age': 19, 'country': 'canada', 'skills': ['Python', 'UI design', 'Javascript', 'ReactJs']}\n",
      "{'name': 'KENNE SUZY', 'country': 'canada', 'skills': ['Python', 'UI design', 'Javascript', 'ReactJs']}\n"
     ]
    }
   ],
   "source": [
    "#dictionary\n",
    "person={\n",
    "    'name':'KENNE SUZY',\n",
    "    'age': 19,\n",
    "    'country': 'cameroon'\n",
    "}\n",
    "print(person)\n",
    "print(person['age'])\n",
    "person['country']= 'canada'\n",
    "print(person)\n",
    "person['skills']=['Python','UI design', 'Javascript', 'ReactJs']\n",
    "print(person)\n",
    "del person['age']\n",
    "print(person)"
   ]
  },
  {
   "cell_type": "code",
   "execution_count": 24,
   "metadata": {},
   "outputs": [
    {
     "name": "stdout",
     "output_type": "stream",
     "text": [
      "12\n",
      "35\n",
      "11\n",
      "1\n",
      "30\n",
      "3.25\n",
      "1\n",
      "2197\n",
      "3.0\n"
     ]
    }
   ],
   "source": [
    "#mathematical operators\n",
    "a=7\n",
    "b=5\n",
    "c=a+b\n",
    "print(c)\n",
    "d=a*b\n",
    "print(d)\n",
    "print(6+5)\n",
    "print(6-5)\n",
    "print(6*5)\n",
    "print(13/4)\n",
    "print(13%4)\n",
    "print(13**3)\n",
    "print(9**0.5)\n",
    "\n",
    "\n",
    "\n",
    "\n"
   ]
  },
  {
   "cell_type": "code",
   "execution_count": 20,
   "metadata": {},
   "outputs": [
    {
     "name": "stdout",
     "output_type": "stream",
     "text": [
      "5\n",
      "5.0\n"
     ]
    }
   ],
   "source": [
    "#casting\n",
    "num_str='5'\n",
    "integer_num= int(num_str)\n",
    "print(integer_num)\n",
    "float_num= float(num_str)\n",
    "print(float_num)"
   ]
  }
 ],
 "metadata": {
  "kernelspec": {
   "display_name": "Python 3",
   "language": "python",
   "name": "python3"
  },
  "language_info": {
   "codemirror_mode": {
    "name": "ipython",
    "version": 3
   },
   "file_extension": ".py",
   "mimetype": "text/x-python",
   "name": "python",
   "nbconvert_exporter": "python",
   "pygments_lexer": "ipython3",
   "version": "3.10.12"
  }
 },
 "nbformat": 4,
 "nbformat_minor": 2
}
