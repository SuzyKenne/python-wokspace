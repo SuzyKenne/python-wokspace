{
 "cells": [
  {
   "cell_type": "code",
   "execution_count": 3,
   "metadata": {},
   "outputs": [
    {
     "name": "stdout",
     "output_type": "stream",
     "text": [
      "10\n",
      "Hello\n",
      "<class 'str'>\n"
     ]
    }
   ],
   "source": [
    "#variable\n",
    "x=10\n",
    "print(x)\n",
    "message='Hello'\n",
    "print(message)\n",
    "name='KENNE'\n",
    "print(type(name))"
   ]
  },
  {
   "cell_type": "code",
   "execution_count": 7,
   "metadata": {},
   "outputs": [
    {
     "name": "stdout",
     "output_type": "stream",
     "text": [
      "value: 5\n",
      "data type: <class 'int'>\n",
      "value: 5.6\n",
      "data type: <class 'float'>\n",
      "value: suzy\n",
      "data type: <class 'str'>\n",
      "value: True\n",
      "data type: <class 'bool'>\n",
      "value: 5.6\n",
      "data type: <class 'float'>\n",
      "value: 5\n",
      "data type: <class 'int'>\n",
      "value: True\n",
      "data type: <class 'bool'>\n",
      "value: suzy\n",
      "data type: <class 'str'>\n"
     ]
    }
   ],
   "source": [
    "#data type\n",
    "x=5\n",
    "y=5.6\n",
    "name='suzy'\n",
    "my_booolean=True\n",
    "print(\"value:\", x)\n",
    "print(\"data type:\", type(x))\n",
    "print(\"value:\", y)\n",
    "print(\"data type:\", type(y))\n",
    "print(\"value:\", name)\n",
    "print(\"data type:\", type(name))\n",
    "print(\"value:\", my_booolean)\n",
    "print(\"data type:\", type(my_booolean))\n",
    "\n",
    "x=5.6\n",
    "y=5\n",
    "name=True\n",
    "my_booolean='suzy'\n",
    "print(\"value:\", x)\n",
    "print(\"data type:\", type(x))\n",
    "print(\"value:\", y)\n",
    "print(\"data type:\", type(y))\n",
    "print(\"value:\", name)\n",
    "print(\"data type:\", type(name))\n",
    "print(\"value:\", my_booolean)\n",
    "print(\"data type:\", type(my_booolean))"
   ]
  },
  {
   "cell_type": "code",
   "execution_count": 12,
   "metadata": {},
   "outputs": [
    {
     "name": "stdout",
     "output_type": "stream",
     "text": [
      "{1, 2, 3, 4, 5, 6, 7, 8, 9, 10}\n",
      "{1, 2, 3, 4, 5, 6, 7, 8, 9, 10, 11}\n",
      "{1, 2, 3, 4, 6, 7, 8, 9, 10, 11}\n",
      "does set st contaian number 3? True\n",
      "10\n"
     ]
    }
   ],
   "source": [
    "#sets\n",
    "st={1,2,3,4,5,6,7,8,9,10}\n",
    "print(st)\n",
    "st.add(11)\n",
    "print(st)\n",
    "st.remove(5)\n",
    "print(st)\n",
    "print(\"does set st contain number 3?\", 3 in st)\n",
    "print(len(st))"
   ]
  },
  {
   "cell_type": "code",
   "execution_count": 20,
   "metadata": {},
   "outputs": [
    {
     "name": "stdout",
     "output_type": "stream",
     "text": [
      "[1, 2, 3, 4, 5, 6, 7, 8, 9, 10]\n",
      "[1, 2, 3, 4, 5, 6, 7, 8, 9, 10, 11]\n",
      "[1, 2, 3, 4, 6, 7, 8, 9, 10, 11]\n",
      "does list lst contain number 3? True\n",
      "[2, 3, 4, 6, 7, 8, 9, 10, 11]\n",
      "9\n",
      "[11, 10, 9, 8, 7, 6, 4, 3, 2]\n"
     ]
    }
   ],
   "source": [
    "#lists\n",
    "lst=[1,2,3,4,5,6,7,8,9,10]\n",
    "print(lst)\n",
    "lst.append(11)\n",
    "print(lst)\n",
    "lst.remove(5)\n",
    "print(lst)\n",
    "print(\"does list lst contain number 3?\", 3 in lst)\n",
    "del lst[0]\n",
    "print(lst)\n",
    "print(len(lst))\n",
    "lst.reverse()\n",
    "print(lst)"
   ]
  },
  {
   "cell_type": "code",
   "execution_count": 24,
   "metadata": {},
   "outputs": [
    {
     "name": "stdout",
     "output_type": "stream",
     "text": [
      "<class 'str'>\n",
      "<class 'int'>\n",
      "<class 'float'>\n"
     ]
    }
   ],
   "source": [
    "my_str='5'\n",
    "print(type(my_str))\n",
    "interger_num=int(my_str)\n",
    "print(type(interger_num))\n",
    "float_num=float(my_str)\n",
    "print(type(float_num))"
   ]
  }
 ],
 "metadata": {
  "kernelspec": {
   "display_name": "Python 3",
   "language": "python",
   "name": "python3"
  },
  "language_info": {
   "codemirror_mode": {
    "name": "ipython",
    "version": 3
   },
   "file_extension": ".py",
   "mimetype": "text/x-python",
   "name": "python",
   "nbconvert_exporter": "python",
   "pygments_lexer": "ipython3",
   "version": "3.10.12"
  }
 },
 "nbformat": 4,
 "nbformat_minor": 2
}
