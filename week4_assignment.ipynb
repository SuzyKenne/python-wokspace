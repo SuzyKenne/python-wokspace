{
 "cells": [
  {
   "cell_type": "code",
   "execution_count": 2,
   "metadata": {},
   "outputs": [
    {
     "name": "stdout",
     "output_type": "stream",
     "text": [
      "sum is: 5\n",
      "sum is: 580\n",
      "sum is: 406800\n"
     ]
    }
   ],
   "source": [
    "#sum function\n",
    "\n",
    "def sum_two_num(a,b):\n",
    "    sum = a+b\n",
    "    return sum\n",
    "print('sum is:', sum_two_num(1 , 4))\n",
    "print('sum is:', sum_two_num(380 , 200))\n",
    "print('sum is:', sum_two_num(5900 , 400900))\n"
   ]
  },
  {
   "cell_type": "code",
   "execution_count": 16,
   "metadata": {},
   "outputs": [
    {
     "name": "stdout",
     "output_type": "stream",
     "text": [
      "the factorial of 5 is : 120\n"
     ]
    }
   ],
   "source": [
    "# factorial function\n",
    "\n",
    "def factorial(n):\n",
    "    if n < 0:\n",
    "        return None\n",
    "    elif n==0:\n",
    "        return 1\n",
    "    else:\n",
    "        result = 1\n",
    "        for i in range (1, n+1):\n",
    "            result *= i\n",
    "        return result\n",
    "number = int(input(\"enter a number :\"))\n",
    "result = factorial(number) \n",
    "if result is None :\n",
    "    print('factorial is not defined for negative number')\n",
    "else:\n",
    "    print(f'the factorial of {number} is : {result}')\n",
    "    "
   ]
  },
  {
   "cell_type": "code",
   "execution_count": 13,
   "metadata": {},
   "outputs": [
    {
     "name": "stdout",
     "output_type": "stream",
     "text": [
      "2 is prime\n",
      "3 is prime\n",
      "7 is prime\n",
      "10 is not prime\n",
      "13 is prime\n",
      "16 is not prime\n",
      "17 is prime\n",
      "21 is not prime\n",
      "23 is prime\n",
      "25 is not prime\n",
      "27 is not prime\n",
      "29 is prime\n",
      "31 is prime\n",
      "37 is prime\n",
      "43 is prime\n",
      "50 is not prime\n"
     ]
    }
   ],
   "source": [
    "#prime function\n",
    "\n",
    "def is_prime(number):\n",
    "    if number <= 1:\n",
    "        return False\n",
    "    for i in range(2, int(number**0.5) + 1):\n",
    "        if number % i == 0:\n",
    "            return\n",
    "    return True\n",
    "numbers = [2,3,7,10,13,16,17,21,23,25,27,29, 31,37,43,50]\n",
    "for num in numbers:\n",
    "    if is_prime(num):\n",
    "        print(num, \"is prime\")\n",
    "    else:\n",
    "        print(num, \"is not prime\")\n"
   ]
  },
  {
   "cell_type": "code",
   "execution_count": 12,
   "metadata": {},
   "outputs": [
    {
     "name": "stdout",
     "output_type": "stream",
     "text": [
      "Average: 3.0\n"
     ]
    }
   ],
   "source": [
    "#average function\n",
    "\n",
    "def calculate_average(numbers):\n",
    "    if not numbers:\n",
    "        return 0\n",
    "    total = sum(numbers)\n",
    "    average = total / len(numbers)\n",
    "    return average\n",
    "sample_list = [1,2,3,4,5]\n",
    "result = calculate_average(sample_list)\n",
    "print(\"Average:\", result)"
   ]
  }
 ],
 "metadata": {
  "kernelspec": {
   "display_name": "Python 3",
   "language": "python",
   "name": "python3"
  },
  "language_info": {
   "codemirror_mode": {
    "name": "ipython",
    "version": 3
   },
   "file_extension": ".py",
   "mimetype": "text/x-python",
   "name": "python",
   "nbconvert_exporter": "python",
   "pygments_lexer": "ipython3",
   "version": "3.10.12"
  }
 },
 "nbformat": 4,
 "nbformat_minor": 2
}
